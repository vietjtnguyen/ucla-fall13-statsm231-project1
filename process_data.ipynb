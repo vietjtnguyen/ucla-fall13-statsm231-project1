{
 "metadata": {
  "name": ""
 },
 "nbformat": 3,
 "nbformat_minor": 0,
 "worksheets": [
  {
   "cells": [
    {
     "cell_type": "code",
     "collapsed": false,
     "input": [
      "import numpy as np\n",
      "import scipy.ndimage as nd"
     ],
     "language": "python",
     "metadata": {},
     "outputs": [],
     "prompt_number": 1
    },
    {
     "cell_type": "code",
     "collapsed": false,
     "input": [
      "do_convert = True\n",
      "do_process_landmarks = True"
     ],
     "language": "python",
     "metadata": {},
     "outputs": [],
     "prompt_number": 2
    },
    {
     "cell_type": "code",
     "collapsed": false,
     "input": [
      "part_1_zip = 'face_part_1.zip'\n",
      "part_2_zip = 'face_part_2.zip'"
     ],
     "language": "python",
     "metadata": {},
     "outputs": [],
     "prompt_number": 3
    },
    {
     "cell_type": "code",
     "collapsed": false,
     "input": [
      "part_1_folder = 'part1'\n",
      "part_2_folder = 'part2'"
     ],
     "language": "python",
     "metadata": {},
     "outputs": [],
     "prompt_number": 4
    },
    {
     "cell_type": "code",
     "collapsed": false,
     "input": [
      "part_1_temp_folder = '{:}_temp'.format(part_1_folder)\n",
      "part_2_temp_folder = '{:}_temp'.format(part_2_folder)"
     ],
     "language": "python",
     "metadata": {},
     "outputs": [],
     "prompt_number": 5
    },
    {
     "cell_type": "markdown",
     "metadata": {},
     "source": [
      "----"
     ]
    },
    {
     "cell_type": "code",
     "collapsed": false,
     "input": [
      "unzip_stdout = !unzip -o -d {part_1_temp_folder} {part_1_zip}"
     ],
     "language": "python",
     "metadata": {},
     "outputs": [],
     "prompt_number": 6
    },
    {
     "cell_type": "code",
     "collapsed": false,
     "input": [
      "!mkdir -p {part_1_folder}/images\n",
      "!mkdir -p {part_1_folder}/landmarks"
     ],
     "language": "python",
     "metadata": {},
     "outputs": [],
     "prompt_number": 7
    },
    {
     "cell_type": "code",
     "collapsed": false,
     "input": [
      "num_of_files = !(ls {part_1_temp_folder}/face | wc -l)\n",
      "num_of_files = int(num_of_files[0])"
     ],
     "language": "python",
     "metadata": {},
     "outputs": [],
     "prompt_number": 8
    },
    {
     "cell_type": "code",
     "collapsed": false,
     "input": [
      "for i in ['{:03d}'.format(x) for x in range(num_of_files)]:\n",
      "    src = '{:}/face/face{:}.bmp'.format(part_1_temp_folder, i)\n",
      "    dst = '{:}/images/{:}.bmp'.format(part_1_folder, i)\n",
      "    if do_convert:\n",
      "        !mv {src} {dst}\n",
      "        #!convert {src} {dst}"
     ],
     "language": "python",
     "metadata": {},
     "outputs": [],
     "prompt_number": 9
    },
    {
     "cell_type": "code",
     "collapsed": false,
     "input": [
      "for i in ['{:03d}'.format(x) for x in range(num_of_files)]:\n",
      "    if do_process_landmarks:\n",
      "        np.save('{:}/landmarks/{:}.npy'.format(part_1_folder, i),\n",
      "                np.loadtxt('{:}/landmark_87/face{:}_87pt.dat'.format(part_1_temp_folder, i), skiprows=1))"
     ],
     "language": "python",
     "metadata": {},
     "outputs": [],
     "prompt_number": 10
    },
    {
     "cell_type": "code",
     "collapsed": false,
     "input": [
      "!rm -rf {part_1_temp_folder}"
     ],
     "language": "python",
     "metadata": {},
     "outputs": [],
     "prompt_number": 11
    },
    {
     "cell_type": "markdown",
     "metadata": {},
     "source": [
      "----"
     ]
    },
    {
     "cell_type": "code",
     "collapsed": false,
     "input": [
      "unzip_stdout = !unzip -o -d {part_2_temp_folder} {part_2_zip}"
     ],
     "language": "python",
     "metadata": {},
     "outputs": [],
     "prompt_number": 12
    },
    {
     "cell_type": "code",
     "collapsed": false,
     "input": [
      "female_folder = 'female'\n",
      "male_folder = 'male'\n",
      "unknown_folder = 'unknown'"
     ],
     "language": "python",
     "metadata": {},
     "outputs": [],
     "prompt_number": 13
    },
    {
     "cell_type": "code",
     "collapsed": false,
     "input": [
      "!mkdir -p {part_2_folder}/{female_folder}/images\n",
      "!mkdir -p {part_2_folder}/{female_folder}/landmarks\n",
      "!mkdir -p {part_2_folder}/{male_folder}/images\n",
      "!mkdir -p {part_2_folder}/{male_folder}/landmarks\n",
      "!mkdir -p {part_2_folder}/{unknown_folder}/images\n",
      "!mkdir -p {part_2_folder}/{unknown_folder}/landmarks"
     ],
     "language": "python",
     "metadata": {},
     "outputs": [],
     "prompt_number": 14
    },
    {
     "cell_type": "code",
     "collapsed": false,
     "input": [
      "num_of_females = !(ls {part_2_temp_folder}/female_face | wc -l)\n",
      "num_of_females = int(num_of_females[0])\n",
      "\n",
      "num_of_males = !(ls {part_2_temp_folder}/male_face | wc -l)\n",
      "num_of_males = int(num_of_males[0])\n",
      "\n",
      "num_of_unknowns = !(ls {part_2_temp_folder}/unknown_face | wc -l)\n",
      "num_of_unknowns = int(num_of_unknowns[0])"
     ],
     "language": "python",
     "metadata": {},
     "outputs": [],
     "prompt_number": 15
    },
    {
     "cell_type": "code",
     "collapsed": false,
     "input": [
      "for num, src_folder, dst_folder in [(num_of_females, 'female_face', female_folder),\n",
      "                                    (num_of_males, 'male_face', male_folder),\n",
      "                                    (num_of_unknowns, 'unknown_face', unknown_folder)]:\n",
      "    for i in ['{:03d}'.format(x) for x in range(num)]:\n",
      "        src = '{:}/{:}/face{:}.bmp'.format(part_2_temp_folder, src_folder, i)\n",
      "        dst = '{:}/{:}/images/{:}.bmp'.format(part_2_folder, dst_folder, i)\n",
      "        if do_convert:\n",
      "            !mv {src} {dst}\n",
      "            #!convert {src} {dst}"
     ],
     "language": "python",
     "metadata": {},
     "outputs": [],
     "prompt_number": 16
    },
    {
     "cell_type": "code",
     "collapsed": false,
     "input": [
      "for num, src_folder, dst_folder in [(num_of_females, 'female_landmark_87', female_folder),\n",
      "                                    (num_of_males, 'male_landmark_87', male_folder),\n",
      "                                    (num_of_unknowns, 'unknown_landmark_87', unknown_folder)]:\n",
      "    for i in ['{:03d}'.format(x) for x in range(num)]:\n",
      "        if do_process_landmarks:\n",
      "            np.save('{:}/{:}/landmarks/{:}.npy'.format(part_2_folder, dst_folder, i),\n",
      "                    np.loadtxt('{:}/{:}/face{:}_87pt.txt'.format(part_2_temp_folder, src_folder, i)))"
     ],
     "language": "python",
     "metadata": {},
     "outputs": [],
     "prompt_number": 17
    },
    {
     "cell_type": "code",
     "collapsed": false,
     "input": [
      "!rm -rf {part_2_temp_folder}"
     ],
     "language": "python",
     "metadata": {},
     "outputs": [],
     "prompt_number": 18
    },
    {
     "cell_type": "markdown",
     "metadata": {},
     "source": [
      "----"
     ]
    },
    {
     "cell_type": "code",
     "collapsed": false,
     "input": [
      "import pickle"
     ],
     "language": "python",
     "metadata": {},
     "outputs": [],
     "prompt_number": 19
    },
    {
     "cell_type": "code",
     "collapsed": false,
     "input": [
      "metadata = {}\n",
      "\n",
      "metadata['part1'] = part1_metadata = {}\n",
      "part1_metadata['num_of_samples'] = num_of_files\n",
      "part1_metadata['training_indices'] = list(range(150))\n",
      "part1_metadata['test_indices'] = list(range(150, num_of_files))\n",
      "part1_metadata['images_path'] = '{:}/images/'.format(part_1_folder)\n",
      "part1_metadata['landmarks_path'] = '{:}/landmarks/'.format(part_1_folder)\n",
      "\n",
      "metadata['part2'] = part2_metadata = {}\n",
      "part2_metadata['female'] = female_metadata = {}\n",
      "part2_metadata['male'] = male_metadata = {}\n",
      "part2_metadata['unknown'] = unknown_metadata = {}\n",
      "\n",
      "female_metadata['num_of_samples'] = num_of_females\n",
      "female_metadata['images_path'] = '{:}/{:}/images/'.format(part_2_folder, female_folder)\n",
      "female_metadata['landmarks_path'] = '{:}/{:}/landmarks/'.format(part_2_folder, female_folder)\n",
      "\n",
      "male_metadata['num_of_samples'] = num_of_males\n",
      "male_metadata['images_path'] = '{:}/{:}/images/'.format(part_2_folder, male_folder)\n",
      "male_metadata['landmarks_path'] = '{:}/{:}/landmarks/'.format(part_2_folder, male_folder)\n",
      "\n",
      "unknown_metadata['num_of_samples'] = num_of_unknowns\n",
      "unknown_metadata['images_path'] = '{:}/{:}/images/'.format(part_2_folder, unknown_folder)\n",
      "unknown_metadata['landmarks_path'] = '{:}/{:}/landmarks/'.format(part_2_folder, unknown_folder)"
     ],
     "language": "python",
     "metadata": {},
     "outputs": [],
     "prompt_number": 20
    },
    {
     "cell_type": "code",
     "collapsed": false,
     "input": [
      "test_image = nd.imread('{:}/images/{:03d}.bmp'.format(part_1_folder, 0))\n",
      "metadata['image_shape'] = test_image.shape\n",
      "metadata['image_length'] = metadata['image_shape'][0] * metadata['image_shape'][1]\n",
      "del test_image"
     ],
     "language": "python",
     "metadata": {},
     "outputs": [],
     "prompt_number": 22
    },
    {
     "cell_type": "code",
     "collapsed": false,
     "input": [
      "metadata['num_of_landmarks'] = len(np.load('{:}/landmarks/{:03d}.npy'.format(part_1_folder, 0)))"
     ],
     "language": "python",
     "metadata": {},
     "outputs": [],
     "prompt_number": 23
    },
    {
     "cell_type": "code",
     "collapsed": false,
     "input": [
      "pickle.dump(metadata, open('metadata.pickle', 'w'))"
     ],
     "language": "python",
     "metadata": {},
     "outputs": [],
     "prompt_number": 24
    },
    {
     "cell_type": "code",
     "collapsed": false,
     "input": [
      "metadata"
     ],
     "language": "python",
     "metadata": {},
     "outputs": [
      {
       "metadata": {},
       "output_type": "pyout",
       "prompt_number": 25,
       "text": [
        "{'image_length': 65536,\n",
        " 'image_shape': (256, 256),\n",
        " 'num_of_landmarks': 87,\n",
        " 'part1': {'images_path': 'part1/images/',\n",
        "  'landmarks_path': 'part1/landmarks/',\n",
        "  'num_of_samples': 178,\n",
        "  'test_indices': [150,\n",
        "   151,\n",
        "   152,\n",
        "   153,\n",
        "   154,\n",
        "   155,\n",
        "   156,\n",
        "   157,\n",
        "   158,\n",
        "   159,\n",
        "   160,\n",
        "   161,\n",
        "   162,\n",
        "   163,\n",
        "   164,\n",
        "   165,\n",
        "   166,\n",
        "   167,\n",
        "   168,\n",
        "   169,\n",
        "   170,\n",
        "   171,\n",
        "   172,\n",
        "   173,\n",
        "   174,\n",
        "   175,\n",
        "   176,\n",
        "   177],\n",
        "  'training_indices': [0,\n",
        "   1,\n",
        "   2,\n",
        "   3,\n",
        "   4,\n",
        "   5,\n",
        "   6,\n",
        "   7,\n",
        "   8,\n",
        "   9,\n",
        "   10,\n",
        "   11,\n",
        "   12,\n",
        "   13,\n",
        "   14,\n",
        "   15,\n",
        "   16,\n",
        "   17,\n",
        "   18,\n",
        "   19,\n",
        "   20,\n",
        "   21,\n",
        "   22,\n",
        "   23,\n",
        "   24,\n",
        "   25,\n",
        "   26,\n",
        "   27,\n",
        "   28,\n",
        "   29,\n",
        "   30,\n",
        "   31,\n",
        "   32,\n",
        "   33,\n",
        "   34,\n",
        "   35,\n",
        "   36,\n",
        "   37,\n",
        "   38,\n",
        "   39,\n",
        "   40,\n",
        "   41,\n",
        "   42,\n",
        "   43,\n",
        "   44,\n",
        "   45,\n",
        "   46,\n",
        "   47,\n",
        "   48,\n",
        "   49,\n",
        "   50,\n",
        "   51,\n",
        "   52,\n",
        "   53,\n",
        "   54,\n",
        "   55,\n",
        "   56,\n",
        "   57,\n",
        "   58,\n",
        "   59,\n",
        "   60,\n",
        "   61,\n",
        "   62,\n",
        "   63,\n",
        "   64,\n",
        "   65,\n",
        "   66,\n",
        "   67,\n",
        "   68,\n",
        "   69,\n",
        "   70,\n",
        "   71,\n",
        "   72,\n",
        "   73,\n",
        "   74,\n",
        "   75,\n",
        "   76,\n",
        "   77,\n",
        "   78,\n",
        "   79,\n",
        "   80,\n",
        "   81,\n",
        "   82,\n",
        "   83,\n",
        "   84,\n",
        "   85,\n",
        "   86,\n",
        "   87,\n",
        "   88,\n",
        "   89,\n",
        "   90,\n",
        "   91,\n",
        "   92,\n",
        "   93,\n",
        "   94,\n",
        "   95,\n",
        "   96,\n",
        "   97,\n",
        "   98,\n",
        "   99,\n",
        "   100,\n",
        "   101,\n",
        "   102,\n",
        "   103,\n",
        "   104,\n",
        "   105,\n",
        "   106,\n",
        "   107,\n",
        "   108,\n",
        "   109,\n",
        "   110,\n",
        "   111,\n",
        "   112,\n",
        "   113,\n",
        "   114,\n",
        "   115,\n",
        "   116,\n",
        "   117,\n",
        "   118,\n",
        "   119,\n",
        "   120,\n",
        "   121,\n",
        "   122,\n",
        "   123,\n",
        "   124,\n",
        "   125,\n",
        "   126,\n",
        "   127,\n",
        "   128,\n",
        "   129,\n",
        "   130,\n",
        "   131,\n",
        "   132,\n",
        "   133,\n",
        "   134,\n",
        "   135,\n",
        "   136,\n",
        "   137,\n",
        "   138,\n",
        "   139,\n",
        "   140,\n",
        "   141,\n",
        "   142,\n",
        "   143,\n",
        "   144,\n",
        "   145,\n",
        "   146,\n",
        "   147,\n",
        "   148,\n",
        "   149]},\n",
        " 'part2': {'female': {'images_path': 'part2/female/images/',\n",
        "   'landmarks_path': 'part2/female/landmarks/',\n",
        "   'num_of_samples': 85},\n",
        "  'male': {'images_path': 'part2/male/images/',\n",
        "   'landmarks_path': 'part2/male/landmarks/',\n",
        "   'num_of_samples': 89},\n",
        "  'unknown': {'images_path': 'part2/unknown/images/',\n",
        "   'landmarks_path': 'part2/unknown/landmarks/',\n",
        "   'num_of_samples': 4}}}"
       ]
      }
     ],
     "prompt_number": 25
    }
   ],
   "metadata": {}
  }
 ]
}