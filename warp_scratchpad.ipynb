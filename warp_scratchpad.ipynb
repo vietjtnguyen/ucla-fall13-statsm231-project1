{
 "metadata": {
  "name": ""
 },
 "nbformat": 3,
 "nbformat_minor": 0,
 "worksheets": [
  {
   "cells": [
    {
     "cell_type": "code",
     "collapsed": false,
     "input": [
      "test_pinch = np.array([[0, 0], [128, 0], [255, 0], [255, 128], [255, 255], [128, 255], [0, 255], [0, 128]])\n",
      "test_pinch_none = np.array([[40, 40], [0, 40], [-40, 40], [-40, 0], [-40, -40], [0, -40], [40, -40], [40, 0]])\n",
      "test_pinch_up = np.array([[40, 40], [0, -10], [-40, 40], [-40, 0], [-40, -40], [0, -40], [40, -40], [40, 0]])\n",
      "test_pinch_right = np.array([[40, 40], [0, 40], [-40, 40], [10, 0], [-40, -40], [0, -40], [40, -40], [40, 0]])\n",
      "test_pinch_down = np.array([[40, 40], [0, 40], [-40, 40], [-40, 0], [-40, -40], [0, 10], [40, -40], [40, 0]])\n",
      "test_pinch_left = np.array([[40, 40], [0, 40], [-40, 40], [-40, 0], [-40, -40], [0, -40], [40, -40], [-10, 0]])"
     ],
     "language": "python",
     "metadata": {},
     "outputs": []
    },
    {
     "cell_type": "code",
     "collapsed": false,
     "input": [
      "def make_warp_frames():\n",
      "    for i, t in enumerate(np.linspace(0, 1, 5)):\n",
      "        warped_image = warp_image(images[0],\n",
      "                                  image_shape,\n",
      "                                  landmarks[0],\n",
      "                                  landmarks[0]*t+mean_landmark*(1-t),\n",
      "                                  anchor_borders=True,\n",
      "                                  border_segments=64,\n",
      "                                  interpolation_method='linear')\n",
      "        plt.figure(figsize=(5, 5))\n",
      "        plt.imshow(warped_image.reshape(image_shape), cmap=cm.gray, vmin=0, vmax=255)\n",
      "        plt.axes().get_xaxis().set_visible(False)\n",
      "        plt.axes().get_yaxis().set_visible(False)\n",
      "        plt.savefig('{:}.png'.format(i))"
     ],
     "language": "python",
     "metadata": {},
     "outputs": []
    },
    {
     "cell_type": "code",
     "collapsed": false,
     "input": [
      "i=0\n",
      "for en in [1]:#range(2, num_of_landmarks+1):\n",
      "    \n",
      "    coeffs = [None] * 2\n",
      "    reconstructed_landmarks = np.zeros((num_of_landmarks, 2))\n",
      "    for j in range(2):\n",
      "        coeffs[j] = eig_vecs[j][:en].dot(norm_landmarks[i, :, j])\n",
      "        reconstructed_landmarks[:, j] = eig_vecs[j][:en].T.dot(coeffs[j])\n",
      "    reconstructed_landmarks = reconstructed_landmarks * std_landmarks + mean_landmark\n",
      "    \n",
      "    reconstructed_image = warp_image(warped_images[i], image_shape,\n",
      "                                     mean_landmark, reconstructed_landmarks,\n",
      "                                     anchor_borders=True, border_segments=8,\n",
      "                                     interpolation_method='cubic')\n",
      "    \n",
      "    plt.figure(figsize=(12, 4))\n",
      "    \n",
      "    ax = plt.subplot(1, 3, 1)\n",
      "    ax.get_xaxis().set_visible(False)\n",
      "    ax.get_yaxis().set_visible(False)\n",
      "    plt.imshow(images[i].reshape(image_shape), cmap=cm.gray, vmin=0, vmax=255)\n",
      "    plt.autoscale(False)\n",
      "    plt.scatter(landmarks[0, :, 0], landmarks[0, :, 1], c='g', marker='+')\n",
      "    plt.scatter(reconstructed_landmarks[:, 0], reconstructed_landmarks[:, 1], c='r', marker='+')\n",
      "    plt.title('Original')\n",
      "    \n",
      "    ax = plt.subplot(1, 3, 2)\n",
      "    ax.get_xaxis().set_visible(False)\n",
      "    ax.get_yaxis().set_visible(False)\n",
      "    plt.imshow(reconstructed_image.reshape(image_shape), cmap=cm.gray, vmin=0, vmax=255)\n",
      "    plt.title('Reconstructed ({:} eigenvectors)'.format(en))\n",
      "    \n",
      "    ax = plt.subplot(1, 3, 3)\n",
      "    ax.get_xaxis().set_visible(False)\n",
      "    ax.get_yaxis().set_visible(False)\n",
      "    plt.imshow(warped_images[i].reshape(image_shape), cmap=cm.gray, vmin=0, vmax=255)\n",
      "    plt.title('Warped')\n",
      "    \n",
      "    #plt.show()\n",
      "    plt.savefig('/home/vnguyen/{:02d}.png'.format(en), bbox_inches='tight')\n",
      "    plt.close()"
     ],
     "language": "python",
     "metadata": {},
     "outputs": []
    }
   ],
   "metadata": {}
  }
 ]
}